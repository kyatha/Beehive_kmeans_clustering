{
 "cells": [
  {
   "cell_type": "code",
   "execution_count": 9,
   "metadata": {},
   "outputs": [],
   "source": [
    "import numpy as np # linear algebra\n",
    "import pandas as pd # data processing, CSV file I/O (e.g. pd.read_csv)\n",
    "import os\n",
    "import seaborn as sns #Visualization\n",
    "import matplotlib.pyplot as plt #Visualization\n",
    "import random\n",
    "import matplotlib.dates as mdates #dates\n",
    "from pandas.plotting import register_matplotlib_converters\n",
    "register_matplotlib_converters()\n",
    "sns.set()"
   ]
  },
  {
   "cell_type": "code",
   "execution_count": 21,
   "metadata": {},
   "outputs": [
    {
     "name": "stdout",
     "output_type": "stream",
     "text": [
      "                  Time     Weight   Humidity  Flow  Temperature\n",
      "0  2017-01-01 05:00:00  52.695098  92.406667   0.0    -0.327590\n",
      "1  2017-01-01 06:00:00  52.685200  92.270000   0.0    -0.409250\n",
      "2  2017-01-01 07:00:00  52.688667  92.575000   0.0    -0.668364\n",
      "3  2017-01-01 08:00:00  52.674267  92.840000   0.0    -0.966858\n",
      "4  2017-01-01 09:00:00  52.595320  93.640000   0.0    -1.623189\n",
      "5  2017-01-01 10:00:00  52.420567  93.768333  -1.0    -1.435920\n",
      "6  2017-01-01 11:00:00  52.482175  92.950000  -2.0    -0.721903\n",
      "7  2017-01-01 12:00:00  52.556912  92.080000   0.0    -0.178753\n",
      "8  2017-01-01 13:00:00  52.645467  91.356667  -2.0     0.385496\n",
      "9  2017-01-01 14:00:00  52.708667  91.071667   0.0     0.602605\n",
      "                     Time     Weight   Humidity  Flow  Temperature\n",
      "8732  2017-12-31 01:00:00  53.659533  90.255000   0.0    13.590207\n",
      "8733  2017-12-31 02:00:00  53.674737  91.685000  -1.0    13.325935\n",
      "8734  2017-12-31 03:00:00  53.655000  92.323333  -1.0    13.583413\n",
      "8735  2017-12-31 04:00:00  53.667000  92.675000  -3.0    14.071768\n",
      "8736  2017-12-31 05:00:00  53.707547  91.900000  -1.0    14.514211\n"
     ]
    }
   ],
   "source": [
    "df = pd.read_csv('all_features.csv', sep = ',');\n",
    "print(df.head(10))\n",
    "print(df.tail())"
   ]
  },
  {
   "cell_type": "code",
   "execution_count": 13,
   "metadata": {},
   "outputs": [
    {
     "data": {
      "text/plain": [
       "Time            object\n",
       "Weight         float64\n",
       "Humidity       float64\n",
       "Flow           float64\n",
       "Temperature    float64\n",
       "dtype: object"
      ]
     },
     "execution_count": 13,
     "metadata": {},
     "output_type": "execute_result"
    }
   ],
   "source": [
    "df.dtypes"
   ]
  },
  {
   "cell_type": "code",
   "execution_count": 29,
   "metadata": {},
   "outputs": [
    {
     "data": {
      "text/plain": [
       "Time           float64\n",
       "Weight         float64\n",
       "Humidity       float64\n",
       "Flow           float64\n",
       "Temperature    float64\n",
       "dtype: object"
      ]
     },
     "execution_count": 29,
     "metadata": {},
     "output_type": "execute_result"
    }
   ],
   "source": [
    "df['Time'] = pd.to_datetime(df['Time'], errors='coerce', format='%Y-%m-%d %H:%M:%S').dt.strftime('%Y%m%d').astype(float)\n",
    "df.dtypes"
   ]
  },
  {
   "cell_type": "code",
   "execution_count": 30,
   "metadata": {},
   "outputs": [
    {
     "data": {
      "text/plain": [
       "TimeSeriesKMeans(max_iter=10, metric='dtw')"
      ]
     },
     "execution_count": 30,
     "metadata": {},
     "output_type": "execute_result"
    }
   ],
   "source": [
    "from tslearn.clustering import TimeSeriesKMeans\n",
    "model = TimeSeriesKMeans(n_clusters=3, metric=\"dtw\", max_iter=10)\n",
    "model.fit(df)"
   ]
  },
  {
   "cell_type": "code",
   "execution_count": null,
   "metadata": {},
   "outputs": [],
   "source": [
    "import pandas as pd\n",
    "import seaborn as sns\n",
    "import matplotlib.pyplot as plt\n",
    "from sklearn.decomposition import PCA\n",
    "from sklearn.cluster import KMeans"
   ]
  },
  {
   "cell_type": "code",
   "execution_count": null,
   "metadata": {},
   "outputs": [],
   "source": [
    "clustering_kmeans = KMeans(n_clusters=2, precompute_distances=\"auto\", n_jobs=-1)\n",
    "data['clusters'] = clustering_kmeans.fit_predict(data)"
   ]
  },
  {
   "cell_type": "code",
   "execution_count": null,
   "metadata": {},
   "outputs": [],
   "source": [
    "### Run PCA on the data and reduce the dimensions in pca_num_components dimensions\n",
    "reduced_data = PCA(n_components=pca_num_components).fit_transform(data)\n",
    "results = pd.DataFrame(reduced_data,columns=['pca1','pca2'])\n",
    "\n",
    "sns.scatterplot(x=\"pca1\", y=\"pca2\", hue=data['clusters'], data=results)\n",
    "plt.title('K-means Clustering with 2 dimensions')\n",
    "plt.show()"
   ]
  },
  {
   "cell_type": "code",
   "execution_count": null,
   "metadata": {},
   "outputs": [],
   "source": [
    "# Import KMeans       \n",
    "from sklearn.cluster import KMeans  \n",
    "import matplotlib.pyplot as plt\n",
    "\n",
    "#Create a KMeans instance with 3 clusters:     \n",
    "model = KMeans(n_clusters = 3)    \n",
    "\n",
    "points = df\n",
    "#Fit model to points      \n",
    "model.fit(points)\n",
    "\n",
    "# Determine the cluster labels of new_points\n",
    "labels = model.predict(new_points)\n",
    "\n",
    "#Assign the columns of new_points:     \n",
    "xs = new_points[:,0]       \n",
    "ys = new_points[:,1] \n",
    "\n",
    "#Make a scatter plot of xs and ys\n",
    "plt.scatter(xs,ys,c=labels)  \n",
    "\n",
    "#Assign the cluster centers     \n",
    "centroids = model.cluster_centers_ \n",
    "\n",
    "#Assign the columns of centroids       \n",
    "centroids_x = centroids[:,0]       \n",
    "centroids_y = centroids[:,1] \n",
    "\n",
    "#Make a scatter plot of centroids_x and  centroids_y      \n",
    "plt.scatter(centroids_x,centroids_y,marker='D', s=50)      \n",
    "plt.show()"
   ]
  },
  {
   "cell_type": "code",
   "execution_count": null,
   "metadata": {},
   "outputs": [],
   "source": []
  }
 ],
 "metadata": {
  "kernelspec": {
   "display_name": "Python 3",
   "language": "python",
   "name": "python3"
  },
  "language_info": {
   "codemirror_mode": {
    "name": "ipython",
    "version": 3
   },
   "file_extension": ".py",
   "mimetype": "text/x-python",
   "name": "python",
   "nbconvert_exporter": "python",
   "pygments_lexer": "ipython3",
   "version": "3.8.3"
  }
 },
 "nbformat": 4,
 "nbformat_minor": 4
}
