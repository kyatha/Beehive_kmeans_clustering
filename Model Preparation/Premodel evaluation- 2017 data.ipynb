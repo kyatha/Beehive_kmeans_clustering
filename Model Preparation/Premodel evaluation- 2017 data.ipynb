{
 "cells": [
  {
   "cell_type": "code",
   "execution_count": 18,
   "metadata": {},
   "outputs": [],
   "source": [
    "import numpy as np # linear algebra\n",
    "import pandas as pd # data processing, CSV file I/O (e.g. pd.read_csv)\n",
    "import os\n",
    "import seaborn as sns #Visualization\n",
    "import matplotlib.pyplot as plt #Visualization\n",
    "import random\n",
    "import matplotlib.dates as mdates #dates\n",
    "from pandas.plotting import register_matplotlib_converters\n",
    "register_matplotlib_converters()\n",
    "sns.set()"
   ]
  },
  {
   "cell_type": "code",
   "execution_count": 19,
   "metadata": {},
   "outputs": [],
   "source": [
    "temperature_data_a = pd.read_csv('temperature_2017.csv', sep = ',');\n",
    "flow_data_a = pd.read_csv('flow_2017.csv', sep = ',');\n",
    "humidity_data_a = pd.read_csv('humidity_2017.csv', sep = ',');\n",
    "weight_data_a = pd.read_csv('weight_2017.csv', sep = ',');"
   ]
  },
  {
   "cell_type": "code",
   "execution_count": 20,
   "metadata": {},
   "outputs": [
    {
     "name": "stdout",
     "output_type": "stream",
     "text": [
      "             timestamp  temperature\n",
      "0  2017-01-01 05:00:00    -1.911244\n",
      "1  2017-01-01 06:00:00    -1.866717\n",
      "2  2017-01-01 07:00:00    -2.077833\n",
      "3  2017-01-01 08:00:00    -2.327167\n",
      "4  2017-01-01 09:00:00    -2.791233\n",
      "             timestamp  flow\n",
      "0  2017-01-01 05:15:00     0\n",
      "1  2017-01-01 05:16:00     0\n",
      "2  2017-01-01 05:17:00     0\n",
      "3  2017-01-01 05:18:00     0\n",
      "4  2017-01-01 05:19:00     0\n",
      "             timestamp   humidity\n",
      "0  2017-01-01 05:00:00  92.406667\n",
      "1  2017-01-01 06:00:00  92.270000\n",
      "2  2017-01-01 07:00:00  92.575000\n",
      "3  2017-01-01 08:00:00  92.840000\n",
      "4  2017-01-01 09:00:00  93.640000\n",
      "             timestamp   weight\n",
      "0  2017-01-01 05:15:00  52.6974\n",
      "1  2017-01-01 05:16:00  52.6974\n",
      "2  2017-01-01 05:17:00  52.6974\n",
      "3  2017-01-01 05:18:00  52.6974\n",
      "4  2017-01-01 05:19:00  52.6973\n"
     ]
    }
   ],
   "source": [
    "print(temperature_data_a.head(5))\n",
    "print(flow_data_a.head(5)) \n",
    "print(humidity_data_a.head(5))\n",
    "print(weight_data_a.head(5))"
   ]
  },
  {
   "cell_type": "code",
   "execution_count": 21,
   "metadata": {},
   "outputs": [
    {
     "name": "stdout",
     "output_type": "stream",
     "text": [
      "                  timestamp  temperature\n",
      "401864  2017-12-31 04:50:00       12.116\n",
      "401865  2017-12-31 04:55:00       12.156\n",
      "401866  2017-12-31 05:00:00       12.178\n",
      "401867  2017-12-31 05:05:00       12.154\n",
      "401868  2017-12-31 05:10:00       12.216\n",
      "                   timestamp  flow\n",
      "1048215  2017-12-31 05:10:00     0\n",
      "1048216  2017-12-31 05:11:00     0\n",
      "1048217  2017-12-31 05:12:00     0\n",
      "1048218  2017-12-31 05:13:00     0\n",
      "1048219  2017-12-31 05:14:00     0\n",
      "                timestamp   humidity\n",
      "8732  2017-12-31 01:00:00  90.255000\n",
      "8733  2017-12-31 02:00:00  91.685000\n",
      "8734  2017-12-31 03:00:00  92.323333\n",
      "8735  2017-12-31 04:00:00  92.675000\n",
      "8736  2017-12-31 05:00:00  91.900000\n",
      "                  timestamp   weight\n",
      "524105  2017-12-31 05:10:00  53.8495\n",
      "524106  2017-12-31 05:11:00  53.7214\n",
      "524107  2017-12-31 05:12:00  53.6574\n",
      "524108  2017-12-31 05:13:00  53.7214\n",
      "524109  2017-12-31 05:14:00  53.8175\n"
     ]
    }
   ],
   "source": [
    "print(temperature_data_a.tail(5))\n",
    "print(flow_data_a.tail(5)) \n",
    "print(humidity_data_a.tail(5))\n",
    "print(weight_data_a.tail(5))"
   ]
  },
  {
   "cell_type": "code",
   "execution_count": 22,
   "metadata": {},
   "outputs": [],
   "source": [
    "temperature_time_arr_a = pd.to_datetime(temperature_data_a.timestamp)\n",
    "ts_temperature_a = pd.Series(data=np.array(temperature_data_a.temperature), \n",
    "                           index=pd.DatetimeIndex(temperature_time_arr_a), dtype=\"float\")"
   ]
  },
  {
   "cell_type": "code",
   "execution_count": 23,
   "metadata": {},
   "outputs": [],
   "source": [
    "flow_time_arr_a = pd.to_datetime(flow_data_a.timestamp)\n",
    "ts_flow_a = pd.Series(data=np.array(flow_data_a.flow), \n",
    "                           index=pd.DatetimeIndex(flow_time_arr_a), dtype=\"float\")"
   ]
  },
  {
   "cell_type": "code",
   "execution_count": 24,
   "metadata": {},
   "outputs": [],
   "source": [
    "humidity_time_arr_a = pd.to_datetime(humidity_data_a.timestamp)\n",
    "ts_humidity_a = pd.Series(data=np.array(humidity_data_a.humidity), \n",
    "                           index=pd.DatetimeIndex(humidity_time_arr_a), dtype=\"float\")"
   ]
  },
  {
   "cell_type": "code",
   "execution_count": 25,
   "metadata": {},
   "outputs": [],
   "source": [
    "weight_time_arr_a = pd.to_datetime(weight_data_a.timestamp)\n",
    "ts_weight_a = pd.Series(data=np.array(weight_data_a.weight), \n",
    "                           index=pd.DatetimeIndex(weight_time_arr_a), dtype=\"float\")"
   ]
  },
  {
   "cell_type": "code",
   "execution_count": 26,
   "metadata": {},
   "outputs": [
    {
     "name": "stdout",
     "output_type": "stream",
     "text": [
      "                  Time  Temperature\n",
      "0  2017-01-01 05:00:00    -0.327590\n",
      "1  2017-01-01 06:00:00    -0.409250\n",
      "2  2017-01-01 07:00:00    -0.668364\n",
      "3  2017-01-01 08:00:00    -0.966858\n",
      "4  2017-01-01 09:00:00    -1.623189\n"
     ]
    }
   ],
   "source": [
    "ts_temperature_hour_a = ts_temperature_a.resample(\"H\").mean()\n",
    "ts_temperature_hour_a.to_csv('temperature_features.csv',index=True)\n",
    "\n",
    "temperature_feature_a = pd.read_csv('temperature_features.csv', sep = ',',header=0);\n",
    "temperature_feature_a.rename(columns={'timestamp': 'Time', '0':'Temperature'}, inplace=True)\n",
    "#temperature_feature_a.columns= ['Time', 'Temperature']\n",
    "print(temperature_feature_a.head(5))"
   ]
  },
  {
   "cell_type": "code",
   "execution_count": 27,
   "metadata": {},
   "outputs": [
    {
     "name": "stdout",
     "output_type": "stream",
     "text": [
      "                  Time  Flow\n",
      "0  2017-01-01 05:00:00   0.0\n",
      "1  2017-01-01 06:00:00   0.0\n",
      "2  2017-01-01 07:00:00   0.0\n",
      "3  2017-01-01 08:00:00   0.0\n",
      "4  2017-01-01 09:00:00   0.0\n"
     ]
    }
   ],
   "source": [
    "ts_flow_hour_a = ts_flow_a.resample(\"H\").sum()\n",
    "ts_flow_hour_a.to_csv('flow_features.csv',index=True)\n",
    "flow_feature_a = pd.read_csv('flow_features.csv', sep = ',',header=0);\n",
    "flow_feature_a.rename(columns={'timestamp': 'Time', '0':'Flow'}, inplace=True)\n",
    "print(flow_feature_a.head(5))"
   ]
  },
  {
   "cell_type": "code",
   "execution_count": 28,
   "metadata": {},
   "outputs": [
    {
     "name": "stdout",
     "output_type": "stream",
     "text": [
      "                  Time   Humidity\n",
      "0  2017-01-01 05:00:00  92.406667\n",
      "1  2017-01-01 06:00:00  92.270000\n",
      "2  2017-01-01 07:00:00  92.575000\n",
      "3  2017-01-01 08:00:00  92.840000\n",
      "4  2017-01-01 09:00:00  93.640000\n"
     ]
    }
   ],
   "source": [
    "ts_humidity_hour_a = ts_humidity_a.resample(\"H\").mean()\n",
    "ts_humidity_hour_a.to_csv('humidity_features.csv',index=True)\n",
    "humidity_feature_a = pd.read_csv('humidity_features.csv', sep = ',',header=0);\n",
    "humidity_feature_a.rename(columns={'timestamp': 'Time', '0':'Humidity'}, inplace=True)\n",
    "print(humidity_feature_a.head(5))"
   ]
  },
  {
   "cell_type": "code",
   "execution_count": 29,
   "metadata": {},
   "outputs": [
    {
     "name": "stdout",
     "output_type": "stream",
     "text": [
      "                  Time     Weight\n",
      "0  2017-01-01 05:00:00  52.695098\n",
      "1  2017-01-01 06:00:00  52.685200\n",
      "2  2017-01-01 07:00:00  52.688667\n",
      "3  2017-01-01 08:00:00  52.674267\n",
      "4  2017-01-01 09:00:00  52.595320\n"
     ]
    }
   ],
   "source": [
    "ts_weight_hour_a = ts_weight_a.resample(\"H\").mean()\n",
    "ts_weight_hour_a.to_csv('weight_features.csv',index=True)\n",
    "weight_feature_a = pd.read_csv('weight_features.csv', sep = ',',header=0);\n",
    "weight_feature_a.rename(columns={'timestamp': 'Time', '0':'Weight'}, inplace=True)\n",
    "print(weight_feature_a.head(5))"
   ]
  },
  {
   "cell_type": "code",
   "execution_count": 30,
   "metadata": {},
   "outputs": [
    {
     "name": "stdout",
     "output_type": "stream",
     "text": [
      "                  Time     Weight                 Time   Humidity  \\\n",
      "0  2017-01-01 05:00:00  52.695098  2017-01-01 05:00:00  92.406667   \n",
      "1  2017-01-01 06:00:00  52.685200  2017-01-01 06:00:00  92.270000   \n",
      "2  2017-01-01 07:00:00  52.688667  2017-01-01 07:00:00  92.575000   \n",
      "3  2017-01-01 08:00:00  52.674267  2017-01-01 08:00:00  92.840000   \n",
      "4  2017-01-01 09:00:00  52.595320  2017-01-01 09:00:00  93.640000   \n",
      "\n",
      "                  Time  Flow                 Time  Temperature  \n",
      "0  2017-01-01 05:00:00   0.0  2017-01-01 05:00:00    -0.327590  \n",
      "1  2017-01-01 06:00:00   0.0  2017-01-01 06:00:00    -0.409250  \n",
      "2  2017-01-01 07:00:00   0.0  2017-01-01 07:00:00    -0.668364  \n",
      "3  2017-01-01 08:00:00   0.0  2017-01-01 08:00:00    -0.966858  \n",
      "4  2017-01-01 09:00:00   0.0  2017-01-01 09:00:00    -1.623189  \n"
     ]
    }
   ],
   "source": [
    "df= pd.concat([weight_feature_a,humidity_feature_a,flow_feature_a,temperature_feature_a], axis=1,join='outer').sort_index()\n",
    "print(df.head(5))\n",
    "df.to_csv('all_features.csv',index=False)"
   ]
  },
  {
   "cell_type": "code",
   "execution_count": 31,
   "metadata": {},
   "outputs": [
    {
     "name": "stdout",
     "output_type": "stream",
     "text": [
      "                  Time     Weight               Time.1   Humidity  \\\n",
      "0  2017-01-01 05:00:00  52.695098  2017-01-01 05:00:00  92.406667   \n",
      "1  2017-01-01 06:00:00  52.685200  2017-01-01 06:00:00  92.270000   \n",
      "2  2017-01-01 07:00:00  52.688667  2017-01-01 07:00:00  92.575000   \n",
      "3  2017-01-01 08:00:00  52.674267  2017-01-01 08:00:00  92.840000   \n",
      "4  2017-01-01 09:00:00  52.595320  2017-01-01 09:00:00  93.640000   \n",
      "\n",
      "                Time.2  Flow               Time.3  Temperature  \n",
      "0  2017-01-01 05:00:00   0.0  2017-01-01 05:00:00    -0.327590  \n",
      "1  2017-01-01 06:00:00   0.0  2017-01-01 06:00:00    -0.409250  \n",
      "2  2017-01-01 07:00:00   0.0  2017-01-01 07:00:00    -0.668364  \n",
      "3  2017-01-01 08:00:00   0.0  2017-01-01 08:00:00    -0.966858  \n",
      "4  2017-01-01 09:00:00   0.0  2017-01-01 09:00:00    -1.623189  \n"
     ]
    }
   ],
   "source": [
    "df_all_features = pd.read_csv('all_features.csv', sep = ',');\n",
    "print(df_all_features.head())"
   ]
  },
  {
   "cell_type": "code",
   "execution_count": 32,
   "metadata": {},
   "outputs": [
    {
     "name": "stdout",
     "output_type": "stream",
     "text": [
      "                  Time     Weight   Humidity  Flow  Temperature\n",
      "0  2017-01-01 05:00:00  52.695098  92.406667   0.0    -0.327590\n",
      "1  2017-01-01 06:00:00  52.685200  92.270000   0.0    -0.409250\n",
      "2  2017-01-01 07:00:00  52.688667  92.575000   0.0    -0.668364\n",
      "3  2017-01-01 08:00:00  52.674267  92.840000   0.0    -0.966858\n",
      "4  2017-01-01 09:00:00  52.595320  93.640000   0.0    -1.623189\n"
     ]
    }
   ],
   "source": [
    "df_all_features.drop(['Time.1','Time.2','Time.3'], axis=1, inplace=True)\n",
    "df_all_features.to_csv('all_features.csv',index=False)\n",
    "print(df_all_features.head(5))"
   ]
  },
  {
   "cell_type": "code",
   "execution_count": 2,
   "metadata": {},
   "outputs": [],
   "source": [
    "import pandas as pd\n",
    "import numpy as np\n",
    "import seaborn as sns\n",
    "import matplotlib.pyplot as plt\n",
    "from kneed import KneeLocator\n",
    "%matplotlib inline"
   ]
  },
  {
   "cell_type": "code",
   "execution_count": 3,
   "metadata": {},
   "outputs": [
    {
     "name": "stdout",
     "output_type": "stream",
     "text": [
      "                  Time     Weight   Humidity  Flow  Temperature\n",
      "0  2017-01-01 05:00:00  52.695098  92.406667   0.0    -0.327590\n",
      "1  2017-01-01 06:00:00  52.685200  92.270000   0.0    -0.409250\n",
      "2  2017-01-01 07:00:00  52.688667  92.575000   0.0    -0.668364\n",
      "3  2017-01-01 08:00:00  52.674267  92.840000   0.0    -0.966858\n",
      "4  2017-01-01 09:00:00  52.595320  93.640000   0.0    -1.623189\n",
      "5  2017-01-01 10:00:00  52.420567  93.768333  -1.0    -1.435920\n",
      "6  2017-01-01 11:00:00  52.482175  92.950000  -2.0    -0.721903\n",
      "7  2017-01-01 12:00:00  52.556912  92.080000   0.0    -0.178753\n",
      "8  2017-01-01 13:00:00  52.645467  91.356667  -2.0     0.385496\n",
      "9  2017-01-01 14:00:00  52.708667  91.071667   0.0     0.602605\n"
     ]
    }
   ],
   "source": [
    "df = pd.read_csv('all_features.csv', sep = ',');\n",
    "print(df.head(10))"
   ]
  },
  {
   "cell_type": "code",
   "execution_count": null,
   "metadata": {},
   "outputs": [],
   "source": []
  }
 ],
 "metadata": {
  "kernelspec": {
   "display_name": "Python 3",
   "language": "python",
   "name": "python3"
  },
  "language_info": {
   "codemirror_mode": {
    "name": "ipython",
    "version": 3
   },
   "file_extension": ".py",
   "mimetype": "text/x-python",
   "name": "python",
   "nbconvert_exporter": "python",
   "pygments_lexer": "ipython3",
   "version": "3.8.3"
  }
 },
 "nbformat": 4,
 "nbformat_minor": 4
}
